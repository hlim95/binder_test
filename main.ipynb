{
 "cells": [
  {
   "cell_type": "code",
   "execution_count": 2,
   "id": "1b3cec45",
   "metadata": {},
   "outputs": [],
   "source": [
    "import random\n",
    "import pandas as pd\n",
    "import matplotlib.pyplot as plt"
   ]
  },
  {
   "cell_type": "code",
   "execution_count": 3,
   "id": "efabd18d",
   "metadata": {},
   "outputs": [],
   "source": [
    "num_list = []\n",
    "for i in range(100):\n",
    "    num_list.append(random.uniform(0,1))"
   ]
  },
  {
   "cell_type": "code",
   "execution_count": 4,
   "id": "62f6fd76",
   "metadata": {},
   "outputs": [
    {
     "data": {
      "text/plain": [
       "(array([10.,  7.,  7.,  9., 13., 10.,  7.,  8., 17., 12.]),\n",
       " array([0.00422576, 0.10057629, 0.19692683, 0.29327737, 0.3896279 ,\n",
       "        0.48597844, 0.58232898, 0.67867951, 0.77503005, 0.87138059,\n",
       "        0.96773112]),\n",
       " <BarContainer object of 10 artists>)"
      ]
     },
     "execution_count": 4,
     "metadata": {},
     "output_type": "execute_result"
    },
    {
     "data": {
      "image/png": "[encoded data removed]",
      "text/plain": [
       "<Figure size 432x288 with 1 Axes>"
      ]
     },
     "metadata": {
      "needs_background": "light"
     },
     "output_type": "display_data"
    }
   ],
   "source": [
    "plt.hist(num_list)"
   ]
  }
 ],
 "metadata": {
  "kernelspec": {
   "display_name": "Python 3",
   "language": "python",
   "name": "python3"
  },
  "language_info": {
   "codemirror_mode": {
    "name": "ipython",
    "version": 3
   },
   "file_extension": ".py",
   "mimetype": "text/x-python",
   "name": "python",
   "nbconvert_exporter": "python",
   "pygments_lexer": "ipython3",
   "version": "3.7.4"
  }
 },
 "nbformat": 4,
 "nbformat_minor": 5
}
